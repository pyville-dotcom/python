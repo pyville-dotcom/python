{
  "nbformat": 4,
  "nbformat_minor": 0,
  "metadata": {
    "colab": {
      "provenance": []
    },
    "kernelspec": {
      "name": "python3",
      "display_name": "Python 3"
    },
    "language_info": {
      "name": "python"
    }
  },
  "cells": [
    {
      "cell_type": "markdown",
      "source": [
        "# Notebook 1"
      ],
      "metadata": {
        "id": "X7hQ0aSypjDB"
      }
    },
    {
      "cell_type": "code",
      "source": [
        "print('notebook1 started!')\n",
        "\n",
        "message_from_nb1 = 'Hi from notebook1'"
      ],
      "metadata": {
        "colab": {
          "base_uri": "https://localhost:8080/"
        },
        "id": "G6qDijXAoWe4",
        "outputId": "257cfbaf-454f-4722-ec50-ad2b0a182081"
      },
      "execution_count": 2,
      "outputs": [
        {
          "output_type": "stream",
          "name": "stdout",
          "text": [
            "notebook1 started!\n"
          ]
        }
      ]
    }
  ]
}